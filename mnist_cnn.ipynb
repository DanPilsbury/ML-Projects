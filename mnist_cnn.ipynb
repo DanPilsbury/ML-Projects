{
 "cells": [
  {
   "cell_type": "code",
   "execution_count": 22,
   "metadata": {},
   "outputs": [],
   "source": [
    "import torch\n",
    "import torch.nn as nn\n",
    "import torch.nn.functional as F\n",
    "from torch.utils.data import DataLoader\n",
    "from torchvision import datasets, transforms\n",
    "from torchvision.utils import make_grid\n",
    "\n",
    "import numpy as np\n",
    "import pandas as pd\n",
    "from sklearn.metrics import confusion_matrix\n",
    "import matplotlib.pyplot as plt"
   ]
  },
  {
   "cell_type": "code",
   "execution_count": 23,
   "metadata": {},
   "outputs": [],
   "source": [
    "transform = transforms.ToTensor()\n",
    "\n",
    "train_data = datasets.MNIST(root='./Data', train=True, download=True, transform=transform)\n",
    "test_data = datasets.MNIST(root='./Data', train=False, download=True, transform=transform)"
   ]
  },
  {
   "cell_type": "code",
   "execution_count": 24,
   "metadata": {},
   "outputs": [
    {
     "data": {
      "text/plain": [
       "Dataset MNIST\n",
       "    Number of datapoints: 60000\n",
       "    Split: train\n",
       "    Root Location: ./Data\n",
       "    Transforms (if any): ToTensor()\n",
       "    Target Transforms (if any): None"
      ]
     },
     "execution_count": 24,
     "metadata": {},
     "output_type": "execute_result"
    }
   ],
   "source": [
    "train_data"
   ]
  },
  {
   "cell_type": "code",
   "execution_count": 25,
   "metadata": {},
   "outputs": [
    {
     "data": {
      "text/plain": [
       "Dataset MNIST\n",
       "    Number of datapoints: 10000\n",
       "    Split: test\n",
       "    Root Location: ./Data\n",
       "    Transforms (if any): ToTensor()\n",
       "    Target Transforms (if any): None"
      ]
     },
     "execution_count": 25,
     "metadata": {},
     "output_type": "execute_result"
    }
   ],
   "source": [
    "test_data"
   ]
  },
  {
   "cell_type": "code",
   "execution_count": 26,
   "metadata": {},
   "outputs": [],
   "source": [
    "train_loader = DataLoader(train_data, batch_size=10, shuffle=True)\n",
    "test_loader = DataLoader(test_data, batch_size=10, shuffle=False)"
   ]
  },
  {
   "cell_type": "code",
   "execution_count": 27,
   "metadata": {},
   "outputs": [],
   "source": [
    "class ConvolutionalNetwork(nn.Module):\n",
    "    def __init__(self):\n",
    "        super().__init__()\n",
    "        self.conv1 = nn.Conv2d(1, 6, 3, 1)\n",
    "        self.conv2 = nn.Conv2d(6, 16, 3, 1)\n",
    "        self.fc1 = nn.Linear(5*5*16, 120)\n",
    "        self.fc2 = nn.Linear(120, 84)\n",
    "        self.fc3 = nn.Linear(84,10)\n",
    "\n",
    "    def forward(self, X):\n",
    "        X = F.relu(self.conv1(X))\n",
    "        X = F.max_pool2d(X, 2, 2)\n",
    "        X = F.relu(self.conv2(X))\n",
    "        X = F.max_pool2d(X, 2, 2)\n",
    "        X = X.view(-1, 5*5*16)\n",
    "        X = F.relu(self.fc1(X))\n",
    "        X = F.relu(self.fc2(X))\n",
    "        X = self.fc3(X)\n",
    "        return F.log_softmax(X, dim=1)"
   ]
  },
  {
   "cell_type": "code",
   "execution_count": 28,
   "metadata": {},
   "outputs": [
    {
     "data": {
      "text/plain": [
       "ConvolutionalNetwork(\n",
       "  (conv1): Conv2d(1, 6, kernel_size=(3, 3), stride=(1, 1))\n",
       "  (conv2): Conv2d(6, 16, kernel_size=(3, 3), stride=(1, 1))\n",
       "  (fc1): Linear(in_features=400, out_features=120, bias=True)\n",
       "  (fc2): Linear(in_features=120, out_features=84, bias=True)\n",
       "  (fc3): Linear(in_features=84, out_features=10, bias=True)\n",
       ")"
      ]
     },
     "execution_count": 28,
     "metadata": {},
     "output_type": "execute_result"
    }
   ],
   "source": [
    "torch.manual_seed(42)\n",
    "model = ConvolutionalNetwork()\n",
    "model"
   ]
  },
  {
   "cell_type": "code",
   "execution_count": 29,
   "metadata": {},
   "outputs": [],
   "source": [
    "def count_parameters(model):\n",
    "    params = [p.numel() for p in model.parameters() if p.requires_grad]\n",
    "    for item in params:\n",
    "        print(f'{item:>6}')\n",
    "    print(f'______\\n{sum(params):>6}')"
   ]
  },
  {
   "cell_type": "code",
   "execution_count": 30,
   "metadata": {},
   "outputs": [
    {
     "name": "stdout",
     "output_type": "stream",
     "text": [
      "    54\n",
      "     6\n",
      "   864\n",
      "    16\n",
      " 48000\n",
      "   120\n",
      " 10080\n",
      "    84\n",
      "   840\n",
      "    10\n",
      "______\n",
      " 60074\n"
     ]
    }
   ],
   "source": [
    "count_parameters(model)\n"
   ]
  },
  {
   "cell_type": "code",
   "execution_count": 31,
   "metadata": {},
   "outputs": [],
   "source": [
    "criterion = nn.CrossEntropyLoss()\n",
    "optimizer = torch.optim.Adam(model.parameters(), lr=0.001)"
   ]
  },
  {
   "cell_type": "code",
   "execution_count": 32,
   "metadata": {},
   "outputs": [
    {
     "name": "stdout",
     "output_type": "stream",
     "text": [
      "epoch:  0  batch:  600 [  6000/60000]  loss: 0.21188493  accuracy:  78.233%\n",
      "epoch:  0  batch: 1200 [ 12000/60000]  loss: 0.58769071  accuracy:  85.433%\n",
      "epoch:  0  batch: 1800 [ 18000/60000]  loss: 0.02857478  accuracy:  88.544%\n",
      "epoch:  0  batch: 2400 [ 24000/60000]  loss: 0.03179730  accuracy:  90.412%\n",
      "epoch:  0  batch: 3000 [ 30000/60000]  loss: 0.01055044  accuracy:  91.560%\n",
      "epoch:  0  batch: 3600 [ 36000/60000]  loss: 0.00418122  accuracy:  92.350%\n",
      "epoch:  0  batch: 4200 [ 42000/60000]  loss: 0.07637697  accuracy:  92.924%\n",
      "epoch:  0  batch: 4800 [ 48000/60000]  loss: 0.00175486  accuracy:  93.435%\n",
      "epoch:  0  batch: 5400 [ 54000/60000]  loss: 0.00050798  accuracy:  93.850%\n",
      "epoch:  0  batch: 6000 [ 60000/60000]  loss: 0.00140136  accuracy:  94.202%\n",
      "epoch:  1  batch:  600 [  6000/60000]  loss: 0.02146063  accuracy:  98.033%\n",
      "epoch:  1  batch: 1200 [ 12000/60000]  loss: 0.29972968  accuracy:  97.908%\n",
      "epoch:  1  batch: 1800 [ 18000/60000]  loss: 0.20708442  accuracy:  97.933%\n",
      "epoch:  1  batch: 2400 [ 24000/60000]  loss: 0.00189419  accuracy:  97.942%\n",
      "epoch:  1  batch: 3000 [ 30000/60000]  loss: 0.00177066  accuracy:  97.900%\n",
      "epoch:  1  batch: 3600 [ 36000/60000]  loss: 0.13017371  accuracy:  97.933%\n",
      "epoch:  1  batch: 4200 [ 42000/60000]  loss: 0.01209491  accuracy:  97.955%\n",
      "epoch:  1  batch: 4800 [ 48000/60000]  loss: 0.17527819  accuracy:  97.969%\n",
      "epoch:  1  batch: 5400 [ 54000/60000]  loss: 0.03613313  accuracy:  98.028%\n",
      "epoch:  1  batch: 6000 [ 60000/60000]  loss: 0.02651998  accuracy:  98.033%\n",
      "epoch:  2  batch:  600 [  6000/60000]  loss: 0.00108640  accuracy:  98.700%\n",
      "epoch:  2  batch: 1200 [ 12000/60000]  loss: 0.00038566  accuracy:  98.533%\n",
      "epoch:  2  batch: 1800 [ 18000/60000]  loss: 0.00049265  accuracy:  98.511%\n",
      "epoch:  2  batch: 2400 [ 24000/60000]  loss: 0.00063070  accuracy:  98.442%\n",
      "epoch:  2  batch: 3000 [ 30000/60000]  loss: 0.00403018  accuracy:  98.460%\n",
      "epoch:  2  batch: 3600 [ 36000/60000]  loss: 0.00012802  accuracy:  98.508%\n",
      "epoch:  2  batch: 4200 [ 42000/60000]  loss: 0.00194451  accuracy:  98.467%\n",
      "epoch:  2  batch: 4800 [ 48000/60000]  loss: 0.00025388  accuracy:  98.465%\n",
      "epoch:  2  batch: 5400 [ 54000/60000]  loss: 0.00048925  accuracy:  98.489%\n",
      "epoch:  2  batch: 6000 [ 60000/60000]  loss: 0.00014650  accuracy:  98.518%\n",
      "epoch:  3  batch:  600 [  6000/60000]  loss: 0.01326378  accuracy:  98.717%\n",
      "epoch:  3  batch: 1200 [ 12000/60000]  loss: 0.00475065  accuracy:  98.783%\n",
      "epoch:  3  batch: 1800 [ 18000/60000]  loss: 0.00518804  accuracy:  98.717%\n",
      "epoch:  3  batch: 2400 [ 24000/60000]  loss: 0.00158998  accuracy:  98.779%\n",
      "epoch:  3  batch: 3000 [ 30000/60000]  loss: 0.00001062  accuracy:  98.830%\n",
      "epoch:  3  batch: 3600 [ 36000/60000]  loss: 0.00059907  accuracy:  98.800%\n",
      "epoch:  3  batch: 4200 [ 42000/60000]  loss: 0.00944657  accuracy:  98.800%\n",
      "epoch:  3  batch: 4800 [ 48000/60000]  loss: 0.00636956  accuracy:  98.829%\n",
      "epoch:  3  batch: 5400 [ 54000/60000]  loss: 0.00607543  accuracy:  98.831%\n",
      "epoch:  3  batch: 6000 [ 60000/60000]  loss: 0.00033989  accuracy:  98.812%\n",
      "epoch:  4  batch:  600 [  6000/60000]  loss: 0.00265613  accuracy:  99.133%\n",
      "epoch:  4  batch: 1200 [ 12000/60000]  loss: 0.03361819  accuracy:  99.058%\n",
      "epoch:  4  batch: 1800 [ 18000/60000]  loss: 0.00620640  accuracy:  99.044%\n",
      "epoch:  4  batch: 2400 [ 24000/60000]  loss: 0.00000215  accuracy:  99.050%\n",
      "epoch:  4  batch: 3000 [ 30000/60000]  loss: 0.00116365  accuracy:  99.043%\n",
      "epoch:  4  batch: 3600 [ 36000/60000]  loss: 0.00045379  accuracy:  99.039%\n",
      "epoch:  4  batch: 4200 [ 42000/60000]  loss: 0.00247581  accuracy:  99.021%\n",
      "epoch:  4  batch: 4800 [ 48000/60000]  loss: 0.00043692  accuracy:  98.987%\n",
      "epoch:  4  batch: 5400 [ 54000/60000]  loss: 0.42756635  accuracy:  99.013%\n",
      "epoch:  4  batch: 6000 [ 60000/60000]  loss: 0.00408063  accuracy:  99.003%\n",
      "\n",
      "Duration: 245 seconds\n"
     ]
    }
   ],
   "source": [
    "import time\n",
    "start_time = time.time()\n",
    "\n",
    "epochs = 5\n",
    "train_losses = []\n",
    "test_losses = []\n",
    "train_correct = []\n",
    "test_correct = []\n",
    "\n",
    "for i in range(epochs):\n",
    "    trn_corr = 0\n",
    "    tst_corr = 0\n",
    "    \n",
    "    # Run the training batches\n",
    "    for b, (X_train, y_train) in enumerate(train_loader):\n",
    "        b+=1\n",
    "        \n",
    "        # Apply the model\n",
    "        y_pred = model(X_train)  # we don't flatten X-train here\n",
    "        loss = criterion(y_pred, y_train)\n",
    " \n",
    "        # Tally the number of correct predictions\n",
    "        predicted = torch.max(y_pred.data, 1)[1]\n",
    "        batch_corr = (predicted == y_train).sum()\n",
    "        trn_corr += batch_corr\n",
    "        \n",
    "        # Update parameters\n",
    "        optimizer.zero_grad()\n",
    "        loss.backward()\n",
    "        optimizer.step()\n",
    "        \n",
    "        # Print interim results\n",
    "        if b%600 == 0:\n",
    "            print(f'epoch: {i:2}  batch: {b:4} [{10*b:6}/60000]  loss: {loss.item():10.8f}  \\\n",
    "accuracy: {trn_corr.item()*100/(10*b):7.3f}%')\n",
    "        \n",
    "    train_losses.append(loss)\n",
    "    train_correct.append(trn_corr)\n",
    "        \n",
    "    # Run the testing batches\n",
    "    with torch.no_grad():\n",
    "        for b, (X_test, y_test) in enumerate(test_loader):\n",
    "\n",
    "            # Apply the model\n",
    "            y_val = model(X_test)\n",
    "\n",
    "            # Tally the number of correct predictions\n",
    "            predicted = torch.max(y_val.data, 1)[1] \n",
    "            tst_corr += (predicted == y_test).sum()\n",
    "            \n",
    "    loss = criterion(y_val, y_test)\n",
    "    test_losses.append(loss)\n",
    "    test_correct.append(tst_corr)\n",
    "        \n",
    "print(f'\\nDuration: {time.time() - start_time:.0f} seconds') # print the time elapsed            "
   ]
  },
  {
   "cell_type": "code",
   "execution_count": 33,
   "metadata": {},
   "outputs": [
    {
     "data": {
      "image/png": "[encoded data removed]",
      "text/plain": [
       "<Figure size 432x288 with 1 Axes>"
      ]
     },
     "metadata": {
      "needs_background": "light"
     },
     "output_type": "display_data"
    }
   ],
   "source": [
    "plt.plot(train_losses, label='training loss')\n",
    "plt.plot(test_losses, label='validation loss')\n",
    "plt.title('Loss at the end of each epoch')\n",
    "plt.legend();"
   ]
  },
  {
   "cell_type": "code",
   "execution_count": 34,
   "metadata": {},
   "outputs": [],
   "source": [
    "# Extract the data all at once, not in batches\n",
    "test_load_all = DataLoader(test_data, batch_size=10000, shuffle=False)"
   ]
  },
  {
   "cell_type": "code",
   "execution_count": 35,
   "metadata": {},
   "outputs": [
    {
     "name": "stdout",
     "output_type": "stream",
     "text": [
      "Test accuracy: 9857/10000 =  98.570%\n"
     ]
    }
   ],
   "source": [
    "with torch.no_grad():\n",
    "    correct = 0\n",
    "    for X_test, y_test in test_load_all:\n",
    "        y_val = model(X_test)  # we don't flatten the data this time\n",
    "        predicted = torch.max(y_val,1)[1]\n",
    "        correct += (predicted == y_test).sum()\n",
    "print(f'Test accuracy: {correct.item()}/{len(test_data)} = {correct.item()*100/(len(test_data)):7.3f}%')"
   ]
  },
  {
   "cell_type": "code",
   "execution_count": 36,
   "metadata": {},
   "outputs": [
    {
     "name": "stdout",
     "output_type": "stream",
     "text": [
      "[[   0    1    2    3    4    5    6    7    8    9]]\n",
      "\n",
      "[[ 976    0    3    1    0    2    4    0    8    2]\n",
      " [   0 1131    3    1    0    0    5    2    0    0]\n",
      " [   1    0 1017    2    1    0    1    7    2    0]\n",
      " [   0    1    1 1004    0   20    0    3    3    3]\n",
      " [   0    0    1    0  975    0    1    0    0    4]\n",
      " [   0    1    0    1    0  856    1    0    3    1]\n",
      " [   1    1    0    0    3    2  945    0    0    0]\n",
      " [   0    0    6    0    0    1    0 1009    1    3]\n",
      " [   1    1    1    1    0    2    1    0  954    6]\n",
      " [   1    0    0    0    3    9    0    7    3  990]]\n"
     ]
    }
   ],
   "source": [
    "# print a row of values for reference\n",
    "np.set_printoptions(formatter=dict(int=lambda x: f'{x:4}'))\n",
    "print(np.arange(10).reshape(1,10))\n",
    "print()\n",
    "\n",
    "# print the confusion matrix\n",
    "print(confusion_matrix(predicted.view(-1), y_test.view(-1)))"
   ]
  },
  {
   "cell_type": "code",
   "execution_count": 37,
   "metadata": {},
   "outputs": [
    {
     "data": {
      "text/plain": [
       "143"
      ]
     },
     "execution_count": 37,
     "metadata": {},
     "output_type": "execute_result"
    }
   ],
   "source": [
    "misses = np.array([])\n",
    "for i in range(len(predicted.view(-1))):\n",
    "    if predicted[i] != y_test[i]:\n",
    "        misses = np.append(misses,i).astype('int64')\n",
    "        \n",
    "# Display the number of misses\n",
    "len(misses)"
   ]
  },
  {
   "cell_type": "code",
   "execution_count": 38,
   "metadata": {},
   "outputs": [
    {
     "data": {
      "text/plain": [
       "array([ 158,  184,  247,  320,  321,  340,  359,  412,  448,  460])"
      ]
     },
     "execution_count": 38,
     "metadata": {},
     "output_type": "execute_result"
    }
   ],
   "source": [
    "# Display the first 10 index positions\n",
    "misses[:10]"
   ]
  },
  {
   "cell_type": "code",
   "execution_count": 39,
   "metadata": {},
   "outputs": [],
   "source": [
    "# Set up an iterator to feed batched rows\n",
    "r = 12   # row size\n",
    "row = iter(np.array_split(misses,len(misses)//r+1))"
   ]
  },
  {
   "cell_type": "code",
   "execution_count": 40,
   "metadata": {},
   "outputs": [
    {
     "name": "stdout",
     "output_type": "stream",
     "text": [
      "Index: [ 158  184  247  320  321  340  359  412  448  460  495  582]\n",
      "Label: [   3    8    4    9    2    5    9    5    9    5    8    8]\n",
      "Guess: [   2    3    2    8    7    3    4    3    8    9    0    2]\n"
     ]
    },
    {
     "data": {
      "image/png": "[encoded data removed]",
      "text/plain": [
       "<Figure size 720x288 with 1 Axes>"
      ]
     },
     "metadata": {
      "needs_background": "light"
     },
     "output_type": "display_data"
    }
   ],
   "source": [
    "nextrow = next(row)\n",
    "print(\"Index:\", nextrow)\n",
    "print(\"Label:\", y_test.index_select(0,torch.tensor(nextrow)).numpy())\n",
    "print(\"Guess:\", predicted.index_select(0,torch.tensor(nextrow)).numpy())\n",
    "\n",
    "images = X_test.index_select(0,torch.tensor(nextrow))\n",
    "im = make_grid(images, nrow=r)\n",
    "plt.figure(figsize=(10,4))\n",
    "plt.imshow(np.transpose(im.numpy(), (1, 2, 0)));"
   ]
  },
  {
   "cell_type": "code",
   "execution_count": null,
   "metadata": {},
   "outputs": [],
   "source": []
  },
  {
   "cell_type": "code",
   "execution_count": null,
   "metadata": {},
   "outputs": [],
   "source": []
  }
 ],
 "metadata": {
  "interpreter": {
   "hash": "e593be1882538db27a26892edee34852145efdfd866e0fb3e2b32ed95d5feae5"
  },
  "kernelspec": {
   "display_name": "Python 3.7.3 64-bit ('pytorchenv': conda)",
   "language": "python",
   "name": "python3"
  },
  "language_info": {
   "codemirror_mode": {
    "name": "ipython",
    "version": 3
   },
   "file_extension": ".py",
   "mimetype": "text/x-python",
   "name": "python",
   "nbconvert_exporter": "python",
   "pygments_lexer": "ipython3",
   "version": "3.7.3"
  },
  "orig_nbformat": 4
 },
 "nbformat": 4,
 "nbformat_minor": 2
}
